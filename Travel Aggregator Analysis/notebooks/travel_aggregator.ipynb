{
 "cells": [
  {
   "cell_type": "markdown",
   "metadata": {},
   "source": [
    "# Travel Aggregator Analysis"
   ]
  },
  {
   "cell_type": "markdown",
   "metadata": {},
   "source": [
    "## Introduction"
   ]
  },
  {
   "cell_type": "markdown",
   "metadata": {},
   "source": [
    "### Overview"
   ]
  },
  {
   "cell_type": "markdown",
   "metadata": {},
   "source": [
    "This notebook is designed to perform an in-depth analysis of the travel data provided by **MyNextBooking**, an Indian start-up aiming to streamline travel bookings by aggregating prices across major platforms like Yatra, MakeMyTrip (MMT), and Goibibo. The goal of this analysis is to extract actionable insights from historical booking and session data to better understand customer behavior, booking trends, and platform performance."
   ]
  },
  {
   "cell_type": "markdown",
   "metadata": {},
   "source": [
    "### Objectives"
   ]
  },
  {
   "cell_type": "markdown",
   "metadata": {},
   "source": [
    "* Address specific business questions related to bookings, sessions, and customer behavior.\n",
    "* Provide detailed visualizations and metrics to uncover patterns and trends.\n",
    "* Deliver actionable insights that can help optimize the platform and improve customer experience."
   ]
  },
  {
   "cell_type": "markdown",
   "metadata": {},
   "source": [
    "### Key Questions"
   ]
  },
  {
   "cell_type": "markdown",
   "metadata": {},
   "source": [
    "This notebook aims to answer the following questions:\n",
    "\n",
    "1. How many distinct bookings, sessions, and searches are present in the data?\n",
    "2. How many sessions have more than one booking?\n",
    "3. Which days of the week see the highest number of bookings, and what is their distribution?\n",
    "4. What is the total number of bookings and the Gross Booking Value (GBV) for each service name?\n",
    "5. For customers with multiple bookings, which is the most frequently booked route (from city to city)?\n",
    "6. Which are the top 3 departure cities with the highest advance bookings (minimum 5 departures)?\n",
    "7. What is the correlation between numerical columns, and which pair of columns have the highest correlation?\n",
    "8. For each service name, what is the most commonly used device type for bookings?\n",
    "9. What are the quarterly trends for bookings by device type?\n",
    "What are the trends in the overall booking-to-search ratio (oBSR) by:\n",
    "    * Month of the year\n",
    "    * Day of the week\n",
    "    * All available dates (time series plot)"
   ]
  },
  {
   "cell_type": "markdown",
   "metadata": {},
   "source": [
    "### Datasets"
   ]
  },
  {
   "cell_type": "markdown",
   "metadata": {},
   "source": [
    "* `Bookings.csv`: Contains detailed information about individual bookings, including customer details, booking time, route information, service name, device type, and Gross Booking Value (GBV).\n",
    "* `Sessions.csv`: Contains session-level data, including session identifiers, searches performed, session start times, and bookings associated with each session."
   ]
  },
  {
   "cell_type": "markdown",
   "metadata": {},
   "source": [
    "### Loading Libraries"
   ]
  },
  {
   "cell_type": "code",
   "execution_count": 1,
   "metadata": {},
   "outputs": [],
   "source": [
    "import numpy as np # array numerical operations\n",
    "import pandas as pd # data analysis and manipulation\n",
    "import matplotlib.pyplot as plt # data visualization\n",
    "import seaborn as sns\n"
   ]
  },
  {
   "cell_type": "markdown",
   "metadata": {},
   "source": [
    "### Loading the data"
   ]
  },
  {
   "cell_type": "code",
   "execution_count": 3,
   "metadata": {},
   "outputs": [],
   "source": [
    "# import bookings \n",
    "bookings = pd.read_csv('../Data/Bookings.csv')"
   ]
  },
  {
   "cell_type": "code",
   "execution_count": 4,
   "metadata": {},
   "outputs": [
    {
     "data": {
      "text/html": [
       "<div>\n",
       "<style scoped>\n",
       "    .dataframe tbody tr th:only-of-type {\n",
       "        vertical-align: middle;\n",
       "    }\n",
       "\n",
       "    .dataframe tbody tr th {\n",
       "        vertical-align: top;\n",
       "    }\n",
       "\n",
       "    .dataframe thead th {\n",
       "        text-align: right;\n",
       "    }\n",
       "</style>\n",
       "<table border=\"1\" class=\"dataframe\">\n",
       "  <thead>\n",
       "    <tr style=\"text-align: right;\">\n",
       "      <th></th>\n",
       "      <th>customer_id</th>\n",
       "      <th>booking_id</th>\n",
       "      <th>from_city</th>\n",
       "      <th>from_country</th>\n",
       "      <th>to_city</th>\n",
       "      <th>to_country</th>\n",
       "      <th>booking_time</th>\n",
       "      <th>device_type_used</th>\n",
       "      <th>INR_Amount</th>\n",
       "      <th>service_name</th>\n",
       "      <th>no_of_passengers</th>\n",
       "      <th>days_to_departure</th>\n",
       "      <th>distance_km</th>\n",
       "    </tr>\n",
       "  </thead>\n",
       "  <tbody>\n",
       "    <tr>\n",
       "      <th>0</th>\n",
       "      <td>customer_259</td>\n",
       "      <td>booking_82</td>\n",
       "      <td>Gurgaon</td>\n",
       "      <td>India</td>\n",
       "      <td>Ahmedabad</td>\n",
       "      <td>India</td>\n",
       "      <td>2020-02-05T16:12:08Z</td>\n",
       "      <td>Desktop</td>\n",
       "      <td>2565.28</td>\n",
       "      <td>MMT</td>\n",
       "      <td>1.0</td>\n",
       "      <td>10.0</td>\n",
       "      <td>747.8</td>\n",
       "    </tr>\n",
       "    <tr>\n",
       "      <th>1</th>\n",
       "      <td>customer_303</td>\n",
       "      <td>booking_156</td>\n",
       "      <td>Delhi</td>\n",
       "      <td>India</td>\n",
       "      <td>Brussels</td>\n",
       "      <td>Belgium</td>\n",
       "      <td>2018-11-21T08:21:47Z</td>\n",
       "      <td>Android</td>\n",
       "      <td>23120.00</td>\n",
       "      <td>YATRA</td>\n",
       "      <td>1.0</td>\n",
       "      <td>1.0</td>\n",
       "      <td>6701.5</td>\n",
       "    </tr>\n",
       "    <tr>\n",
       "      <th>2</th>\n",
       "      <td>customer_203</td>\n",
       "      <td>booking_99</td>\n",
       "      <td>Devanhalli</td>\n",
       "      <td>India</td>\n",
       "      <td>Frankfurt am Main</td>\n",
       "      <td>Germany</td>\n",
       "      <td>2019-12-16T22:54:58Z</td>\n",
       "      <td>Android</td>\n",
       "      <td>25717.60</td>\n",
       "      <td>YATRA</td>\n",
       "      <td>1.0</td>\n",
       "      <td>32.0</td>\n",
       "      <td>7712.0</td>\n",
       "    </tr>\n",
       "    <tr>\n",
       "      <th>3</th>\n",
       "      <td>customer_211</td>\n",
       "      <td>booking_319</td>\n",
       "      <td>Gurgaon</td>\n",
       "      <td>India</td>\n",
       "      <td>Frankfurt am Main</td>\n",
       "      <td>Germany</td>\n",
       "      <td>2021-10-29T12:25:38Z</td>\n",
       "      <td>Desktop</td>\n",
       "      <td>135969.60</td>\n",
       "      <td>GOIBIBO</td>\n",
       "      <td>2.0</td>\n",
       "      <td>69.0</td>\n",
       "      <td>6112.5</td>\n",
       "    </tr>\n",
       "    <tr>\n",
       "      <th>4</th>\n",
       "      <td>customer_287</td>\n",
       "      <td>booking_222</td>\n",
       "      <td>Gurgaon</td>\n",
       "      <td>India</td>\n",
       "      <td>Roissy-en-France</td>\n",
       "      <td>France</td>\n",
       "      <td>2020-08-11T16:09:10Z</td>\n",
       "      <td>Android</td>\n",
       "      <td>31791.20</td>\n",
       "      <td>GOIBIBO</td>\n",
       "      <td>1.0</td>\n",
       "      <td>3.0</td>\n",
       "      <td>6570.4</td>\n",
       "    </tr>\n",
       "  </tbody>\n",
       "</table>\n",
       "</div>"
      ],
      "text/plain": [
       "    customer_id   booking_id   from_city from_country            to_city  \\\n",
       "0  customer_259   booking_82     Gurgaon        India          Ahmedabad   \n",
       "1  customer_303  booking_156       Delhi        India           Brussels   \n",
       "2  customer_203   booking_99  Devanhalli        India  Frankfurt am Main   \n",
       "3  customer_211  booking_319     Gurgaon        India  Frankfurt am Main   \n",
       "4  customer_287  booking_222     Gurgaon        India   Roissy-en-France   \n",
       "\n",
       "  to_country          booking_time device_type_used  INR_Amount service_name  \\\n",
       "0      India  2020-02-05T16:12:08Z          Desktop     2565.28          MMT   \n",
       "1    Belgium  2018-11-21T08:21:47Z          Android    23120.00        YATRA   \n",
       "2    Germany  2019-12-16T22:54:58Z          Android    25717.60        YATRA   \n",
       "3    Germany  2021-10-29T12:25:38Z          Desktop   135969.60      GOIBIBO   \n",
       "4     France  2020-08-11T16:09:10Z          Android    31791.20      GOIBIBO   \n",
       "\n",
       "   no_of_passengers  days_to_departure  distance_km  \n",
       "0               1.0               10.0        747.8  \n",
       "1               1.0                1.0       6701.5  \n",
       "2               1.0               32.0       7712.0  \n",
       "3               2.0               69.0       6112.5  \n",
       "4               1.0                3.0       6570.4  "
      ]
     },
     "execution_count": 4,
     "metadata": {},
     "output_type": "execute_result"
    }
   ],
   "source": [
    "# preview the data \n",
    "bookings.head()"
   ]
  },
  {
   "cell_type": "code",
   "execution_count": null,
   "metadata": {},
   "outputs": [
    {
     "name": "stdout",
     "output_type": "stream",
     "text": [
      "<class 'pandas.core.frame.DataFrame'>\n",
      "RangeIndex: 339 entries, 0 to 338\n",
      "Data columns (total 13 columns):\n",
      " #   Column             Non-Null Count  Dtype  \n",
      "---  ------             --------------  -----  \n",
      " 0   customer_id        339 non-null    object \n",
      " 1   booking_id         339 non-null    object \n",
      " 2   from_city          339 non-null    object \n",
      " 3   from_country       339 non-null    object \n",
      " 4   to_city            339 non-null    object \n",
      " 5   to_country         339 non-null    object \n",
      " 6   booking_time       339 non-null    object \n",
      " 7   device_type_used   339 non-null    object \n",
      " 8   INR_Amount         339 non-null    float64\n",
      " 9   service_name       339 non-null    object \n",
      " 10  no_of_passengers   339 non-null    float64\n",
      " 11  days_to_departure  339 non-null    float64\n",
      " 12  distance_km        339 non-null    float64\n",
      "dtypes: float64(4), object(9)\n",
      "memory usage: 34.6+ KB\n"
     ]
    }
   ],
   "source": [
    "# brief description: Bookings \n",
    "bookings.info()"
   ]
  },
  {
   "cell_type": "code",
   "execution_count": 6,
   "metadata": {},
   "outputs": [],
   "source": [
    "# import sessions\n",
    "sessions = pd.read_csv('../Data/Sessions.csv')"
   ]
  },
  {
   "cell_type": "code",
   "execution_count": 7,
   "metadata": {},
   "outputs": [
    {
     "data": {
      "text/html": [
       "<div>\n",
       "<style scoped>\n",
       "    .dataframe tbody tr th:only-of-type {\n",
       "        vertical-align: middle;\n",
       "    }\n",
       "\n",
       "    .dataframe tbody tr th {\n",
       "        vertical-align: top;\n",
       "    }\n",
       "\n",
       "    .dataframe thead th {\n",
       "        text-align: right;\n",
       "    }\n",
       "</style>\n",
       "<table border=\"1\" class=\"dataframe\">\n",
       "  <thead>\n",
       "    <tr style=\"text-align: right;\">\n",
       "      <th></th>\n",
       "      <th>session_id</th>\n",
       "      <th>search_id</th>\n",
       "      <th>search_time</th>\n",
       "      <th>session_starting_time</th>\n",
       "      <th>booking_id</th>\n",
       "    </tr>\n",
       "  </thead>\n",
       "  <tbody>\n",
       "    <tr>\n",
       "      <th>0</th>\n",
       "      <td>session_322</td>\n",
       "      <td>search_784</td>\n",
       "      <td>2020-01-21T21:35:38.910Z</td>\n",
       "      <td>2020-01-21T21:10:12Z</td>\n",
       "      <td>NaN</td>\n",
       "    </tr>\n",
       "    <tr>\n",
       "      <th>1</th>\n",
       "      <td>session_322</td>\n",
       "      <td>search_776</td>\n",
       "      <td>2020-01-21T21:37:37.697Z</td>\n",
       "      <td>2020-01-21T21:10:12Z</td>\n",
       "      <td>NaN</td>\n",
       "    </tr>\n",
       "    <tr>\n",
       "      <th>2</th>\n",
       "      <td>session_322</td>\n",
       "      <td>search_623</td>\n",
       "      <td>2020-01-21T21:36:11.392Z</td>\n",
       "      <td>2020-01-21T21:10:12Z</td>\n",
       "      <td>NaN</td>\n",
       "    </tr>\n",
       "    <tr>\n",
       "      <th>3</th>\n",
       "      <td>session_322</td>\n",
       "      <td>search_270</td>\n",
       "      <td>2020-01-21T21:16:07.685Z</td>\n",
       "      <td>2020-01-21T21:10:12Z</td>\n",
       "      <td>NaN</td>\n",
       "    </tr>\n",
       "    <tr>\n",
       "      <th>4</th>\n",
       "      <td>session_322</td>\n",
       "      <td>search_905</td>\n",
       "      <td>2020-01-21T21:34:55.673Z</td>\n",
       "      <td>2020-01-21T21:10:12Z</td>\n",
       "      <td>NaN</td>\n",
       "    </tr>\n",
       "  </tbody>\n",
       "</table>\n",
       "</div>"
      ],
      "text/plain": [
       "    session_id   search_id               search_time session_starting_time  \\\n",
       "0  session_322  search_784  2020-01-21T21:35:38.910Z  2020-01-21T21:10:12Z   \n",
       "1  session_322  search_776  2020-01-21T21:37:37.697Z  2020-01-21T21:10:12Z   \n",
       "2  session_322  search_623  2020-01-21T21:36:11.392Z  2020-01-21T21:10:12Z   \n",
       "3  session_322  search_270  2020-01-21T21:16:07.685Z  2020-01-21T21:10:12Z   \n",
       "4  session_322  search_905  2020-01-21T21:34:55.673Z  2020-01-21T21:10:12Z   \n",
       "\n",
       "  booking_id  \n",
       "0        NaN  \n",
       "1        NaN  \n",
       "2        NaN  \n",
       "3        NaN  \n",
       "4        NaN  "
      ]
     },
     "execution_count": 7,
     "metadata": {},
     "output_type": "execute_result"
    }
   ],
   "source": [
    "# preview the data \n",
    "sessions.head()"
   ]
  },
  {
   "cell_type": "code",
   "execution_count": 8,
   "metadata": {},
   "outputs": [
    {
     "name": "stdout",
     "output_type": "stream",
     "text": [
      "<class 'pandas.core.frame.DataFrame'>\n",
      "RangeIndex: 1497 entries, 0 to 1496\n",
      "Data columns (total 5 columns):\n",
      " #   Column                 Non-Null Count  Dtype \n",
      "---  ------                 --------------  ----- \n",
      " 0   session_id             1497 non-null   object\n",
      " 1   search_id              1497 non-null   object\n",
      " 2   search_time            1497 non-null   object\n",
      " 3   session_starting_time  1497 non-null   object\n",
      " 4   booking_id             366 non-null    object\n",
      "dtypes: object(5)\n",
      "memory usage: 58.6+ KB\n"
     ]
    }
   ],
   "source": [
    "# brief description: Sessions\n",
    "sessions.info()"
   ]
  },
  {
   "cell_type": "markdown",
   "metadata": {},
   "source": [
    "## Data Processing"
   ]
  },
  {
   "cell_type": "markdown",
   "metadata": {},
   "source": [
    "### checking for missing values"
   ]
  },
  {
   "cell_type": "code",
   "execution_count": 26,
   "metadata": {},
   "outputs": [],
   "source": [
    "def missing_values(data) -> pd.DataFrame:\n",
    "    \"\"\"\n",
    "    checking for missing values in a pandas DataFrame\n",
    "    \n",
    "    parameters:\n",
    "        data pd.DataFrame : Pandas dataframe to check for missing values\n",
    "\n",
    "    returns:\n",
    "        missing_df pd.DataFrame: pandas dataframe of columns and their count and percentage of missing values\n",
    "    \"\"\"\n",
    "    # check if dataframe \n",
    "    if not isinstance(data, pd.DataFrame):\n",
    "        raise ValueError(\"Input must be a Pandas DataFrame\")\n",
    "    # check if any missing value\n",
    "    if not data.isnull().values.any():\n",
    "        return \"The DataFrame has no missing values\"\n",
    "    else:\n",
    "        missing = data.isnull().sum().sort_values(ascending=False)\n",
    "\n",
    "        missing_per = np.round(((data.isnull().sum() / len(data)).sort_values(ascending=False)), 2)\n",
    "\n",
    "        missing_df = pd.DataFrame({\n",
    "            'column' : missing.index,\n",
    "            'count': missing.values,\n",
    "            '%': missing_per.values\n",
    "        })\n",
    "\n",
    "        # remove values where count is 0: No mising values\n",
    "        missing_df = missing_df[missing_df['count'] > 0]\n",
    "\n",
    "        return missing_df"
   ]
  },
  {
   "cell_type": "code",
   "execution_count": 27,
   "metadata": {},
   "outputs": [
    {
     "data": {
      "text/plain": [
       "'The DataFrame has no missing values'"
      ]
     },
     "execution_count": 27,
     "metadata": {},
     "output_type": "execute_result"
    }
   ],
   "source": [
    "# missing values: Bookings \n",
    "missing_values(bookings)"
   ]
  },
  {
   "cell_type": "code",
   "execution_count": 28,
   "metadata": {},
   "outputs": [
    {
     "data": {
      "text/html": [
       "<div>\n",
       "<style scoped>\n",
       "    .dataframe tbody tr th:only-of-type {\n",
       "        vertical-align: middle;\n",
       "    }\n",
       "\n",
       "    .dataframe tbody tr th {\n",
       "        vertical-align: top;\n",
       "    }\n",
       "\n",
       "    .dataframe thead th {\n",
       "        text-align: right;\n",
       "    }\n",
       "</style>\n",
       "<table border=\"1\" class=\"dataframe\">\n",
       "  <thead>\n",
       "    <tr style=\"text-align: right;\">\n",
       "      <th></th>\n",
       "      <th>column</th>\n",
       "      <th>count</th>\n",
       "      <th>%</th>\n",
       "    </tr>\n",
       "  </thead>\n",
       "  <tbody>\n",
       "    <tr>\n",
       "      <th>0</th>\n",
       "      <td>booking_id</td>\n",
       "      <td>1131</td>\n",
       "      <td>0.76</td>\n",
       "    </tr>\n",
       "  </tbody>\n",
       "</table>\n",
       "</div>"
      ],
      "text/plain": [
       "       column  count     %\n",
       "0  booking_id   1131  0.76"
      ]
     },
     "execution_count": 28,
     "metadata": {},
     "output_type": "execute_result"
    }
   ],
   "source": [
    "# missing values: Sessions\n",
    "missing_values(sessions)"
   ]
  },
  {
   "cell_type": "markdown",
   "metadata": {},
   "source": [
    "* Column `booking_id` has 1131 missng values, which accounts for about `76%` of the total data."
   ]
  },
  {
   "cell_type": "code",
   "execution_count": 36,
   "metadata": {},
   "outputs": [
    {
     "data": {
      "text/plain": [
       "338"
      ]
     },
     "execution_count": 36,
     "metadata": {},
     "output_type": "execute_result"
    }
   ],
   "source": [
    "# count of unique entries\n",
    "sessions['booking_id'].nunique()"
   ]
  },
  {
   "cell_type": "markdown",
   "metadata": {},
   "source": [
    "* `338` unique entries out of `366` total entries available."
   ]
  },
  {
   "cell_type": "code",
   "execution_count": 37,
   "metadata": {},
   "outputs": [
    {
     "data": {
      "text/plain": [
       "339"
      ]
     },
     "execution_count": 37,
     "metadata": {},
     "output_type": "execute_result"
    }
   ],
   "source": [
    "# count of unique entries: bookings\n",
    "bookings['booking_id'].nunique()"
   ]
  },
  {
   "cell_type": "markdown",
   "metadata": {},
   "source": [
    "* All entries of the same column in bookings data are unique."
   ]
  },
  {
   "cell_type": "markdown",
   "metadata": {},
   "source": [
    "### Check data types"
   ]
  },
  {
   "cell_type": "code",
   "execution_count": 38,
   "metadata": {},
   "outputs": [
    {
     "data": {
      "text/plain": [
       "session_id               object\n",
       "search_id                object\n",
       "search_time              object\n",
       "session_starting_time    object\n",
       "booking_id               object\n",
       "dtype: object"
      ]
     },
     "execution_count": 38,
     "metadata": {},
     "output_type": "execute_result"
    }
   ],
   "source": [
    "# data types: sessions\n",
    "sessions.dtypes"
   ]
  },
  {
   "cell_type": "code",
   "execution_count": 39,
   "metadata": {},
   "outputs": [
    {
     "data": {
      "text/plain": [
       "customer_id           object\n",
       "booking_id            object\n",
       "from_city             object\n",
       "from_country          object\n",
       "to_city               object\n",
       "to_country            object\n",
       "booking_time          object\n",
       "device_type_used      object\n",
       "INR_Amount           float64\n",
       "service_name          object\n",
       "no_of_passengers     float64\n",
       "days_to_departure    float64\n",
       "distance_km          float64\n",
       "dtype: object"
      ]
     },
     "execution_count": 39,
     "metadata": {},
     "output_type": "execute_result"
    }
   ],
   "source": [
    "# data types: bookings \n",
    "bookings.dtypes"
   ]
  },
  {
   "cell_type": "markdown",
   "metadata": {},
   "source": [
    "* In both datasets, the columns with date data is treated as object and not date-time."
   ]
  },
  {
   "cell_type": "markdown",
   "metadata": {},
   "source": [
    "### Convert Timestamps"
   ]
  },
  {
   "cell_type": "code",
   "execution_count": 41,
   "metadata": {},
   "outputs": [],
   "source": [
    "def convert_to_datetime(data: pd.DataFrame, column: str, date_format: str) -> pd.DataFrame:\n",
    "    \"\"\"\n",
    "    Convert a specifed column in a DataFrame from object to datetime\n",
    "\n",
    "    parameters: \n",
    "        * data(pd.DataFrame): The input DataFrame\n",
    "        * column (str): Name of the column to be converted to datetime format\n",
    "        * date_format (str): The date format to use for conversion\n",
    "\n",
    "    returns \n",
    "        pd.DataFrame: DataFrame with the specified column converted to datetime \n",
    "    \"\"\"\n",
    "    # check if input is DataFrame \n",
    "    if not isinstance(data, pd.DataFrame):\n",
    "        raise ValueError(\"Input must be a pandas DataFrame\")\n",
    "    # check if column exists in DataFrame \n",
    "    if column not in data.columns:\n",
    "        raise ValueError(f\"Column {column} does not exist in the DataFrame\")\n",
    "    \n",
    "    # attempt to covert column to datetime\n",
    "    try:\n",
    "        data[column] = pd.to_datetime(data[column], format=date_format, errors='coerce')\n",
    "    except Exception as e:\n",
    "        raise ValueError(f\"Error in converting column '{column}' to datetime: {e}\")\n",
    "    \n",
    "    return data"
   ]
  },
  {
   "cell_type": "code",
   "execution_count": 42,
   "metadata": {},
   "outputs": [
    {
     "data": {
      "text/plain": [
       "customer_id                  object\n",
       "booking_id                   object\n",
       "from_city                    object\n",
       "from_country                 object\n",
       "to_city                      object\n",
       "to_country                   object\n",
       "booking_time         datetime64[ns]\n",
       "device_type_used             object\n",
       "INR_Amount                  float64\n",
       "service_name                 object\n",
       "no_of_passengers            float64\n",
       "days_to_departure           float64\n",
       "distance_km                 float64\n",
       "dtype: object"
      ]
     },
     "execution_count": 42,
     "metadata": {},
     "output_type": "execute_result"
    }
   ],
   "source": [
    "# convert booking_time: bookings\n",
    "bookings = convert_to_datetime(bookings, \"booking_time\", \"%Y-%m-%dT%H:%M:%SZ\")\n",
    "bookings.dtypes"
   ]
  },
  {
   "cell_type": "code",
   "execution_count": 44,
   "metadata": {},
   "outputs": [
    {
     "data": {
      "text/plain": [
       "session_id                       object\n",
       "search_id                        object\n",
       "search_time              datetime64[ns]\n",
       "session_starting_time    datetime64[ns]\n",
       "booking_id                       object\n",
       "dtype: object"
      ]
     },
     "execution_count": 44,
     "metadata": {},
     "output_type": "execute_result"
    }
   ],
   "source": [
    "# convert search_time & session_starting_time: sessions\n",
    "columns = ['search_time', 'session_starting_time']\n",
    "\n",
    "for col in columns:\n",
    "    sessions = convert_to_datetime(sessions, col, \"%Y-%m-%dT%H:%M:%SZ\")\n",
    "\n",
    "sessions.dtypes"
   ]
  },
  {
   "cell_type": "markdown",
   "metadata": {},
   "source": [
    "### Merge Datasets"
   ]
  },
  {
   "cell_type": "code",
   "execution_count": 45,
   "metadata": {},
   "outputs": [
    {
     "data": {
      "text/plain": [
       "Index(['customer_id', 'booking_id', 'from_city', 'from_country', 'to_city',\n",
       "       'to_country', 'booking_time', 'device_type_used', 'INR_Amount',\n",
       "       'service_name', 'no_of_passengers', 'days_to_departure', 'distance_km'],\n",
       "      dtype='object')"
      ]
     },
     "execution_count": 45,
     "metadata": {},
     "output_type": "execute_result"
    }
   ],
   "source": [
    "# columns: bookings\n",
    "bookings.columns"
   ]
  },
  {
   "cell_type": "code",
   "execution_count": 46,
   "metadata": {},
   "outputs": [
    {
     "data": {
      "text/plain": [
       "Index(['session_id', 'search_id', 'search_time', 'session_starting_time',\n",
       "       'booking_id'],\n",
       "      dtype='object')"
      ]
     },
     "execution_count": 46,
     "metadata": {},
     "output_type": "execute_result"
    }
   ],
   "source": [
    "# columns: sessions\n",
    "sessions.columns"
   ]
  },
  {
   "cell_type": "markdown",
   "metadata": {},
   "source": [
    "* **Left Join**: Want all bookings and the corresponding session data (but don't need sessions without bookings), thus using a left join with `Bookings.csv` as the left table."
   ]
  },
  {
   "cell_type": "code",
   "execution_count": 59,
   "metadata": {},
   "outputs": [],
   "source": [
    "def left_join(data1: pd.DataFrame, data2: pd.DataFrame, on: str) -> pd.DataFrame:\n",
    "    \"\"\" \n",
    "    Perform a left join between two DataFrames on a specified column.\n",
    "\n",
    "    parameters:\n",
    "        * data1 (pd.DataFrame): the first dataframe, on the left\n",
    "        * data2 (pd.DataFrame): the second dataframe \n",
    "        * on (str): The column to join on \n",
    "\n",
    "    return:\n",
    "        pd.DataFrame: The resulting DataFrame after the left join\n",
    "\n",
    "    raises:\n",
    "        ValueError: if the columns does not exist in the DataFrame \n",
    "    \"\"\"\n",
    "    # check if input is DataFrame \n",
    "    if not isinstance(data1, pd.DataFrame) or not isinstance(data2, pd.DataFrame):\n",
    "        raise ValueError(\"Input must be a pandas DataFrame\")\n",
    "    # check if the columns exist \n",
    "    if on not in data1.columns:\n",
    "        raise ValueError(f\"Column '{on}' not in the first dataframe\")\n",
    "    if on not in data2.columns:\n",
    "        raise ValueError(f\"Column '{on}' not in the second dataframe\")\n",
    "    \n",
    "    # perform left join\n",
    "    merged_data = pd.merge(data1, data2, on=on, how='left')\n",
    "\n",
    "    # drop duplicated entries\n",
    "    merged_data.drop_duplicates(inplace=True, ignore_index=True)\n",
    "\n",
    "    return merged_data"
   ]
  },
  {
   "cell_type": "code",
   "execution_count": 60,
   "metadata": {},
   "outputs": [
    {
     "name": "stdout",
     "output_type": "stream",
     "text": [
      "<class 'pandas.core.frame.DataFrame'>\n",
      "RangeIndex: 340 entries, 0 to 339\n",
      "Data columns (total 17 columns):\n",
      " #   Column                 Non-Null Count  Dtype         \n",
      "---  ------                 --------------  -----         \n",
      " 0   customer_id            340 non-null    object        \n",
      " 1   booking_id             340 non-null    object        \n",
      " 2   from_city              340 non-null    object        \n",
      " 3   from_country           340 non-null    object        \n",
      " 4   to_city                340 non-null    object        \n",
      " 5   to_country             340 non-null    object        \n",
      " 6   booking_time           340 non-null    datetime64[ns]\n",
      " 7   device_type_used       340 non-null    object        \n",
      " 8   INR_Amount             340 non-null    float64       \n",
      " 9   service_name           340 non-null    object        \n",
      " 10  no_of_passengers       340 non-null    float64       \n",
      " 11  days_to_departure      340 non-null    float64       \n",
      " 12  distance_km            340 non-null    float64       \n",
      " 13  session_id             339 non-null    object        \n",
      " 14  search_id              339 non-null    object        \n",
      " 15  search_time            151 non-null    datetime64[ns]\n",
      " 16  session_starting_time  163 non-null    datetime64[ns]\n",
      "dtypes: datetime64[ns](3), float64(4), object(10)\n",
      "memory usage: 45.3+ KB\n"
     ]
    }
   ],
   "source": [
    "# merge bookings and sessions\n",
    "merged_data = left_join(bookings, sessions, on='booking_id')\n",
    "# brief description: merged_data\n",
    "merged_data.info()"
   ]
  },
  {
   "cell_type": "code",
   "execution_count": null,
   "metadata": {},
   "outputs": [],
   "source": []
  }
 ],
 "metadata": {
  "kernelspec": {
   "display_name": "my_ds_environment",
   "language": "python",
   "name": "python3"
  },
  "language_info": {
   "codemirror_mode": {
    "name": "ipython",
    "version": 3
   },
   "file_extension": ".py",
   "mimetype": "text/x-python",
   "name": "python",
   "nbconvert_exporter": "python",
   "pygments_lexer": "ipython3",
   "version": "3.12.7"
  }
 },
 "nbformat": 4,
 "nbformat_minor": 2
}
